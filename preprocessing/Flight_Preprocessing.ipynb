{
  "nbformat": 4,
  "nbformat_minor": 0,
  "metadata": {
    "colab": {
      "name": "Flight_Preprocessing.ipynb",
      "provenance": []
    },
    "kernelspec": {
      "name": "python3",
      "display_name": "Python 3"
    },
    "language_info": {
      "name": "python"
    }
  },
  "cells": [
    {
      "cell_type": "code",
      "metadata": {
        "id": "pHzx_2DpqbZW"
      },
      "source": [
        "import pandas as pd \n",
        "import numpy as np \n"
      ],
      "execution_count": null,
      "outputs": []
    },
    {
      "cell_type": "code",
      "metadata": {
        "colab": {
          "base_uri": "https://localhost:8080/"
        },
        "id": "SX3NuDW3xLOL",
        "outputId": "bee01053-dd61-41e7-f9b8-394e3b98763a"
      },
      "source": [
        "prefix = '/content/drive'\n",
        "from google.colab import drive\n",
        "drive.mount(prefix, force_remount=True)"
      ],
      "execution_count": null,
      "outputs": [
        {
          "output_type": "stream",
          "text": [
            "Mounted at /content/drive\n"
          ],
          "name": "stdout"
        }
      ]
    },
    {
      "cell_type": "code",
      "metadata": {
        "id": "8Q6OH8u_xPyB"
      },
      "source": [
        "file_path1 = \"/content/drive/Shareddrives/CIS550 Final/data/processed_data/Routes.csv\"\n",
        "file_path2=\"/content/drive/Shareddrives/CIS550 Final/data/processed_data/airline.csv\"\n",
        "file_path3=\"/content/drive/Shareddrives/CIS550 Final/data/processed_data/airports.csv\""
      ],
      "execution_count": null,
      "outputs": []
    },
    {
      "cell_type": "code",
      "metadata": {
        "id": "P3SyVaT4xQvd"
      },
      "source": [
        "routes = pd.read_csv(file_path1)\n",
        "airline=pd.read_csv(file_path2)\n",
        "airports=pd.read_csv(file_path3)"
      ],
      "execution_count": null,
      "outputs": []
    },
    {
      "cell_type": "code",
      "metadata": {
        "colab": {
          "base_uri": "https://localhost:8080/"
        },
        "id": "7QI3aMoTxiC6",
        "outputId": "85e3c9a2-dd09-41bf-e6aa-63449a646bcf"
      },
      "source": [
        "print(routes)"
      ],
      "execution_count": null,
      "outputs": [
        {
          "output_type": "stream",
          "text": [
            "       AirlineID  Source_Airport_ID  Destination_Airport_ID\n",
            "0            410               2965                    2990\n",
            "1            410               2966                    2990\n",
            "2            410               2966                    2962\n",
            "3            410               2968                    2990\n",
            "4            410               2968                    4078\n",
            "...          ...                ...                     ...\n",
            "65293       4178               6334                    3341\n",
            "65294      19016               4029                    2912\n",
            "65295      19016               2912                    4029\n",
            "65296      19016               2912                    2913\n",
            "65297      19016               2913                    2912\n",
            "\n",
            "[65298 rows x 3 columns]\n"
          ],
          "name": "stdout"
        }
      ]
    },
    {
      "cell_type": "code",
      "metadata": {
        "id": "F7tuTXD10k0w"
      },
      "source": [
        "routes=routes[routes['Destination_Airport_ID'].isin(airports['airport_id'].unique())]"
      ],
      "execution_count": null,
      "outputs": []
    },
    {
      "cell_type": "code",
      "metadata": {
        "id": "mQIULUCby5nC"
      },
      "source": [
        "\n",
        "del df['Airline']"
      ],
      "execution_count": null,
      "outputs": []
    },
    {
      "cell_type": "code",
      "metadata": {
        "colab": {
          "base_uri": "https://localhost:8080/"
        },
        "id": "8X8jhups0WfJ",
        "outputId": "8e84cd09-bcef-42c8-f831-b8de8e9fee19"
      },
      "source": [
        "df.isnull().any()"
      ],
      "execution_count": null,
      "outputs": [
        {
          "output_type": "execute_result",
          "data": {
            "text/plain": [
              "Airline                   False\n",
              "AirlineID                 False\n",
              "Source_Airport_ID         False\n",
              "Destination_Airport_ID    False\n",
              "dtype: bool"
            ]
          },
          "metadata": {
            "tags": []
          },
          "execution_count": 12
        }
      ]
    },
    {
      "cell_type": "code",
      "metadata": {
        "colab": {
          "base_uri": "https://localhost:8080/"
        },
        "id": "Pg0IcwCX_oV8",
        "outputId": "77662431-5bb1-443a-c605-b86c2a316d37"
      },
      "source": [
        "df.dtypes"
      ],
      "execution_count": null,
      "outputs": [
        {
          "output_type": "execute_result",
          "data": {
            "text/plain": [
              "Airline                   string\n",
              "AirlineID                  int64\n",
              "Source_Airport_ID          int64\n",
              "Destination_Airport_ID     int64\n",
              "dtype: object"
            ]
          },
          "metadata": {
            "tags": []
          },
          "execution_count": 24
        }
      ]
    },
    {
      "cell_type": "code",
      "metadata": {
        "id": "NfYUN4Y4zvji"
      },
      "source": [
        "df=df.astype({ 'AirlineID':\"int64\", 'Source_Airport_ID':'int64',\"Destination_Airport_ID\":\"int64\"})"
      ],
      "execution_count": null,
      "outputs": []
    },
    {
      "cell_type": "code",
      "metadata": {
        "id": "LFusXMJmzSAm"
      },
      "source": [
        "for col in df.columns:  # iterate over all columns\n",
        "  if df[col].dtype not in [np.int64, np.float64]:  # ignore integer and float columns\n",
        "    # print a header, all unique values, and a separator\n",
        "    print('Unique Values for {}'.format(col))  \n",
        "    print(df[col].unique())   \n",
        "    print('')"
      ],
      "execution_count": null,
      "outputs": []
    },
    {
      "cell_type": "code",
      "metadata": {
        "colab": {
          "base_uri": "https://localhost:8080/",
          "height": 198
        },
        "id": "vyxSlo9lALF2",
        "outputId": "2c7eae2a-6d2a-46b4-b3b7-fe77da986ce6"
      },
      "source": [
        "df.head()"
      ],
      "execution_count": null,
      "outputs": [
        {
          "output_type": "execute_result",
          "data": {
            "text/html": [
              "<div>\n",
              "<style scoped>\n",
              "    .dataframe tbody tr th:only-of-type {\n",
              "        vertical-align: middle;\n",
              "    }\n",
              "\n",
              "    .dataframe tbody tr th {\n",
              "        vertical-align: top;\n",
              "    }\n",
              "\n",
              "    .dataframe thead th {\n",
              "        text-align: right;\n",
              "    }\n",
              "</style>\n",
              "<table border=\"1\" class=\"dataframe\">\n",
              "  <thead>\n",
              "    <tr style=\"text-align: right;\">\n",
              "      <th></th>\n",
              "      <th>AirlineID</th>\n",
              "      <th>Source_Airport_ID</th>\n",
              "      <th>Destination_Airport_ID</th>\n",
              "    </tr>\n",
              "  </thead>\n",
              "  <tbody>\n",
              "    <tr>\n",
              "      <th>0</th>\n",
              "      <td>410</td>\n",
              "      <td>2965</td>\n",
              "      <td>2990</td>\n",
              "    </tr>\n",
              "    <tr>\n",
              "      <th>1</th>\n",
              "      <td>410</td>\n",
              "      <td>2966</td>\n",
              "      <td>2990</td>\n",
              "    </tr>\n",
              "    <tr>\n",
              "      <th>2</th>\n",
              "      <td>410</td>\n",
              "      <td>2966</td>\n",
              "      <td>2962</td>\n",
              "    </tr>\n",
              "    <tr>\n",
              "      <th>3</th>\n",
              "      <td>410</td>\n",
              "      <td>2968</td>\n",
              "      <td>2990</td>\n",
              "    </tr>\n",
              "    <tr>\n",
              "      <th>4</th>\n",
              "      <td>410</td>\n",
              "      <td>2968</td>\n",
              "      <td>4078</td>\n",
              "    </tr>\n",
              "  </tbody>\n",
              "</table>\n",
              "</div>"
            ],
            "text/plain": [
              "   AirlineID  Source_Airport_ID  Destination_Airport_ID\n",
              "0        410               2965                    2990\n",
              "1        410               2966                    2990\n",
              "2        410               2966                    2962\n",
              "3        410               2968                    2990\n",
              "4        410               2968                    4078"
            ]
          },
          "metadata": {
            "tags": []
          },
          "execution_count": 31
        }
      ]
    },
    {
      "cell_type": "code",
      "metadata": {
        "id": "zNhSBVyd03x4"
      },
      "source": [
        "df=df[df.Destination_Airport_ID < \"\\\\N\"]\n",
        "# df=df[df.Name != \"Private flight\"]\n",
        "# df=df.drop(\n",
        "#     columns=['Active']\n",
        "# )"
      ],
      "execution_count": null,
      "outputs": []
    },
    {
      "cell_type": "code",
      "metadata": {
        "id": "m-FmZuqH57FV"
      },
      "source": [
        "routes.to_csv(\"/content/drive/Shareddrives/CIS550 Final/data/processed_data/Routes.csv\",index=False)"
      ],
      "execution_count": null,
      "outputs": []
    }
  ]
}